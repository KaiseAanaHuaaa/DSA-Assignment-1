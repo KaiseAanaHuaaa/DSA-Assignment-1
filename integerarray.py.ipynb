{
 "cells": [
  {
   "cell_type": "code",
   "execution_count": 12,
   "id": "340513ae",
   "metadata": {},
   "outputs": [
    {
     "name": "stdout",
     "output_type": "stream",
     "text": [
      "2 3 4 5 1\n",
      "enter the number5\n",
      "2 3\n",
      "4 1\n",
      "Pairs in array present : 2\n"
     ]
    }
   ],
   "source": [
    "def pairCount(arr,summ):\n",
    "    c=0\n",
    "    for i in range(0,len(arr)):\n",
    "        for j in range(i+1,len(arr)):\n",
    "            if arr[i]+arr[j]==summ:\n",
    "                c+=1\n",
    "                print(arr[i],arr[j])\n",
    "                 \n",
    "            \n",
    "    return c\n",
    "arr=map(int ,input().split())\n",
    "arr=list(arr)\n",
    "summ=int(input(\"enter the number\"))\n",
    "count=pairCount(arr,summ)\n",
    "print(\"Pairs in array present :\",count)"
   ]
  }
 ],
 "metadata": {
  "kernelspec": {
   "display_name": "Python 3 (ipykernel)",
   "language": "python",
   "name": "python3"
  },
  "language_info": {
   "codemirror_mode": {
    "name": "ipython",
    "version": 3
   },
   "file_extension": ".py",
   "mimetype": "text/x-python",
   "name": "python",
   "nbconvert_exporter": "python",
   "pygments_lexer": "ipython3",
   "version": "3.10.2"
  }
 },
 "nbformat": 4,
 "nbformat_minor": 5
}
